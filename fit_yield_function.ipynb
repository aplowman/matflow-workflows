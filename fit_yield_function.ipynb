{
 "cells": [
  {
   "cell_type": "code",
   "execution_count": 41,
   "metadata": {},
   "outputs": [],
   "source": [
    "from matflow import load_workflow\n",
    "\n",
    "from formable.yielding import YieldFunction"
   ]
  },
  {
   "cell_type": "code",
   "execution_count": 42,
   "metadata": {},
   "outputs": [],
   "source": [
    "workflow_path = r'fit_yield_function_2020-10-22-174900'"
   ]
  },
  {
   "cell_type": "code",
   "execution_count": 43,
   "metadata": {},
   "outputs": [],
   "source": [
    "workflow = load_workflow(workflow_path)"
   ]
  },
  {
   "cell_type": "code",
   "execution_count": 46,
   "metadata": {},
   "outputs": [
    {
     "data": {
      "text/plain": [
       "[Task(name='generate_microstructure_seeds', method='random', software='damask'),\n",
       " Task(name='estimate_ODF', method='from_CTF_file', software='mtex'),\n",
       " Task(name='generate_load_case', method='uniaxial', software='formable'),\n",
       " Task(name='generate_load_case', method='random_3D', software='formable'),\n",
       " Task(name='sample_texture', method='from_ODF', software='mtex'),\n",
       " Task(name='generate_volume_element', method='random_voronoi_from_orientations_2', software='damask'),\n",
       " Task(name='visualise_volume_element', method='VTK', software='damask'),\n",
       " Task(name='simulate_volume_element_loading', method='CP_FFT', software='damask'),\n",
       " Task(name='simulate_volume_element_loading', method='CP_FFT', software='damask'),\n",
       " Task(name='fit_yield_function', method='least_squares', software='formable')]"
      ]
     },
     "execution_count": 46,
     "metadata": {},
     "output_type": "execute_result"
    }
   ],
   "source": [
    "workflow.tasks"
   ]
  },
  {
   "cell_type": "code",
   "execution_count": 49,
   "metadata": {
    "scrolled": true
   },
   "outputs": [
    {
     "data": {
      "text/plain": [
       "[{'name': 'Hill1948',\n",
       "  'F': 0.5900862037876746,\n",
       "  'G': 0.5641795079721296,\n",
       "  'H': 0.4180033291713849,\n",
       "  'L': 1.2899658036139119,\n",
       "  'M': 1.5601113502596513,\n",
       "  'N': 1.5685111611219014,\n",
       "  'equivalent_stress': 67914474.59140451},\n",
       " {'name': 'Hill1948',\n",
       "  'F': 0.5882033448540169,\n",
       "  'G': 0.571522177402978,\n",
       "  'H': 0.43290217396094244,\n",
       "  'L': 1.3056564321372606,\n",
       "  'M': 1.5239698442949488,\n",
       "  'N': 1.580780285799388,\n",
       "  'equivalent_stress': 69915060.7074385},\n",
       " {'name': 'Hill1948',\n",
       "  'F': 0.5852088304570457,\n",
       "  'G': 0.5741814857446295,\n",
       "  'H': 0.44162053355461695,\n",
       "  'L': 1.3152574618589663,\n",
       "  'M': 1.5058158902209957,\n",
       "  'N': 1.5831653506509051,\n",
       "  'equivalent_stress': 70633247.71015647},\n",
       " {'name': 'Hill1948',\n",
       "  'F': 0.5826687422882983,\n",
       "  'G': 0.5746380763733511,\n",
       "  'H': 0.44661920200438837,\n",
       "  'L': 1.3196927913574958,\n",
       "  'M': 1.4942950677993154,\n",
       "  'N': 1.5824675419943384,\n",
       "  'equivalent_stress': 70991574.55985484},\n",
       " {'name': 'Hill1948',\n",
       "  'F': 0.5811141418796294,\n",
       "  'G': 0.5743199933693343,\n",
       "  'H': 0.4497295592853702,\n",
       "  'L': 1.3213123406660925,\n",
       "  'M': 1.486731974377648,\n",
       "  'N': 1.580371270936572,\n",
       "  'equivalent_stress': 71219542.92271532},\n",
       " {'name': 'Hill1948',\n",
       "  'F': 0.5800064737039837,\n",
       "  'G': 0.573864708218219,\n",
       "  'H': 0.4517478589402535,\n",
       "  'L': 1.321679570801526,\n",
       "  'M': 1.4810916770055262,\n",
       "  'N': 1.5783616549764068,\n",
       "  'equivalent_stress': 71394176.3665083},\n",
       " {'name': 'Hill1948',\n",
       "  'F': 0.5791704857246479,\n",
       "  'G': 0.5732739423549701,\n",
       "  'H': 0.45319311348669816,\n",
       "  'L': 1.321461417911515,\n",
       "  'M': 1.4765244502842123,\n",
       "  'N': 1.5762475948466308,\n",
       "  'equivalent_stress': 71541187.48220497},\n",
       " {'name': 'Hill1948',\n",
       "  'F': 0.5784549515733696,\n",
       "  'G': 0.5726915594175352,\n",
       "  'H': 0.4543358855400282,\n",
       "  'L': 1.3208650184041735,\n",
       "  'M': 1.4724333906229115,\n",
       "  'N': 1.5741655796470226,\n",
       "  'equivalent_stress': 71672517.49014993},\n",
       " {'name': 'Hill1948',\n",
       "  'F': 0.5778259608008017,\n",
       "  'G': 0.5721011408698279,\n",
       "  'H': 0.455188667967419,\n",
       "  'L': 1.320114809663827,\n",
       "  'M': 1.4689128152093887,\n",
       "  'N': 1.5721971409085709,\n",
       "  'equivalent_stress': 71795808.3858922},\n",
       " {'name': 'Hill1948',\n",
       "  'F': 0.5772679335506814,\n",
       "  'G': 0.5714573459444536,\n",
       "  'H': 0.455825530165409,\n",
       "  'L': 1.319117496448629,\n",
       "  'M': 1.4654946472863029,\n",
       "  'N': 1.5700201214710536,\n",
       "  'equivalent_stress': 71910837.89989375},\n",
       " {'name': 'Hill1948',\n",
       "  'F': 0.5768379141990312,\n",
       "  'G': 0.5709484361553753,\n",
       "  'H': 0.45660207102519257,\n",
       "  'L': 1.3183560514551949,\n",
       "  'M': 1.462257368203653,\n",
       "  'N': 1.5681730343289464,\n",
       "  'equivalent_stress': 72028289.10537559},\n",
       " {'name': 'Hill1948',\n",
       "  'F': 0.576364158642857,\n",
       "  'G': 0.5703337850238608,\n",
       "  'H': 0.45705939364684084,\n",
       "  'L': 1.3173154495612653,\n",
       "  'M': 1.4593551946838412,\n",
       "  'N': 1.5662267161533932,\n",
       "  'equivalent_stress': 72138683.63947845},\n",
       " {'name': 'Hill1948',\n",
       "  'F': 0.575961103825099,\n",
       "  'G': 0.5698117902034624,\n",
       "  'H': 0.4574884927048663,\n",
       "  'L': 1.3164261981916416,\n",
       "  'M': 1.4568293622570407,\n",
       "  'N': 1.5645561490376916,\n",
       "  'equivalent_stress': 72252566.78038192},\n",
       " {'name': 'Hill1948',\n",
       "  'F': 0.575507958660949,\n",
       "  'G': 0.5692250161319041,\n",
       "  'H': 0.45785122098970055,\n",
       "  'L': 1.3153426681636886,\n",
       "  'M': 1.4541420686313729,\n",
       "  'N': 1.5626897557372597,\n",
       "  'equivalent_stress': 72360617.74821003},\n",
       " {'name': 'Hill1948',\n",
       "  'F': 0.5750977009330226,\n",
       "  'G': 0.568671836877173,\n",
       "  'H': 0.4582389512016092,\n",
       "  'L': 1.3143060742118209,\n",
       "  'M': 1.4515032051073358,\n",
       "  'N': 1.5608941236812506,\n",
       "  'equivalent_stress': 72469088.74161875}]"
      ]
     },
     "execution_count": 49,
     "metadata": {},
     "output_type": "execute_result"
    }
   ],
   "source": [
    "workflow.tasks[-1].elements[1].outputs.fitted_yield_functions"
   ]
  },
  {
   "cell_type": "code",
   "execution_count": 44,
   "metadata": {},
   "outputs": [],
   "source": [
    "yld_funcs = [YieldFunction.from_name(**elem.outputs.fitted_yield_functions[0]) for elem in workflow.tasks[-1].elements]"
   ]
  },
  {
   "cell_type": "code",
   "execution_count": 45,
   "metadata": {},
   "outputs": [
    {
     "data": {
      "application/vnd.jupyter.widget-view+json": {
       "model_id": "078c1abeebfa4501b8ac602917435b1f",
       "version_major": 2,
       "version_minor": 0
      },
      "text/plain": [
       "FigureWidget({\n",
       "    'data': [{'contours': {'coloring': 'none', 'end': 0, 'size': 1, 'start': 0},\n",
       "              …"
      ]
     },
     "metadata": {},
     "output_type": "display_data"
    }
   ],
   "source": [
    "YieldFunction.compare_2D(yld_funcs, [0, 0, 1])"
   ]
  },
  {
   "cell_type": "code",
   "execution_count": null,
   "metadata": {},
   "outputs": [],
   "source": []
  }
 ],
 "metadata": {
  "kernelspec": {
   "display_name": "Python 3",
   "language": "python",
   "name": "python3"
  },
  "language_info": {
   "codemirror_mode": {
    "name": "ipython",
    "version": 3
   },
   "file_extension": ".py",
   "mimetype": "text/x-python",
   "name": "python",
   "nbconvert_exporter": "python",
   "pygments_lexer": "ipython3",
   "version": "3.7.6"
  }
 },
 "nbformat": 4,
 "nbformat_minor": 4
}
